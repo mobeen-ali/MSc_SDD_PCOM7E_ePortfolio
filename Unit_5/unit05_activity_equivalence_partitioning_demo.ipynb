{
 "cells": [
  {
   "cell_type": "markdown",
   "metadata": {},
   "source": [
    "# Unit 5 Demonstration – Equivalence Partitioning\n",
    "\n",
    "This notebook demonstrates **Equivalence Partitioning** using a Python script that groups integers based on the relation `(x - y) % 4 == 0`.\n",
    "\n",
    "We'll observe how the function groups input values and discuss how this relates to software testing and secure development practices."
   ]
  },
  {
   "cell_type": "code",
   "execution_count": 6,
   "metadata": {},
   "outputs": [],
   "source": [
    "# equivalence.py – Equivalence Partitioning Script\n",
    "def equivalence_partition(iterable, relation):\n",
    "    classes = []\n",
    "    partitions = {}\n",
    "    for o in iterable:\n",
    "        found = False\n",
    "        for c in classes:\n",
    "            if relation(next(iter(c)), o):\n",
    "                c.add(o)\n",
    "                partitions[o] = c\n",
    "                found = True\n",
    "                break\n",
    "        if not found:\n",
    "            classes.append(set([o]))\n",
    "            partitions[o] = classes[-1]\n",
    "    return classes, partitions\n",
    "\n",
    "def check_equivalence_partition(classes, partitions, relation):\n",
    "    for o, c in partitions.items():\n",
    "        for _c in classes:\n",
    "            assert (o in _c) ^ (_c is not c)\n",
    "    for c1 in classes:\n",
    "        for o1 in c1:\n",
    "            for c2 in classes:\n",
    "                for o2 in c2:\n",
    "                    assert (c1 is c2) ^ (not relation(o1, o2))\n",
    "\n",
    "def test_equivalence_partition():\n",
    "    relation = lambda x, y: (x - y) % 4 == 0\n",
    "    classes, partitions = equivalence_partition(range(-3, 5), relation)\n",
    "    check_equivalence_partition(classes, partitions, relation)\n",
    "    for c in classes:\n",
    "        print(c)\n",
    "    for o, c in partitions.items():\n",
    "        print(o, ':', c)"
   ]
  },
  {
   "cell_type": "markdown",
   "metadata": {},
   "source": [
    "## Running the Partition Test Run the Test Function\n",
    "\n",
    "Execute the function below to see how the integers `-3` to `4` are partitioned into equivalence classes."
   ]
  },
  {
   "cell_type": "code",
   "execution_count": 7,
   "metadata": {},
   "outputs": [
    {
     "name": "stdout",
     "output_type": "stream",
     "text": [
      "{1, -3}\n",
      "{2, -2}\n",
      "{3, -1}\n",
      "{0, 4}\n",
      "-3 : {1, -3}\n",
      "-2 : {2, -2}\n",
      "-1 : {3, -1}\n",
      "0 : {0, 4}\n",
      "1 : {1, -3}\n",
      "2 : {2, -2}\n",
      "3 : {3, -1}\n",
      "4 : {0, 4}\n"
     ]
    }
   ],
   "source": [
    "test_equivalence_partition()"
   ]
  },
  {
   "cell_type": "markdown",
   "metadata": {},
   "source": [
    "## Manual Verification Reflection\n",
    "\n",
    "- This partitioning helps test fewer but representative values.\n",
    "- Especially useful for input validation and control flow security.\n",
    "- Each group ensures that all values are logically equivalent under the defined relation."
   ]
  },
  {
   "cell_type": "markdown",
   "metadata": {},
   "source": [
    "## Alternate Relation – Modulo 3 Alternate Relation – Modulo 3\n",
    "\n",
    "Now we explore a different equivalence relation: `(x - y) % 3 == 0`. This helps us understand how changing the logic affects the grouping."
   ]
  },
  {
   "cell_type": "code",
   "execution_count": 8,
   "metadata": {},
   "outputs": [
    {
     "name": "stdout",
     "output_type": "stream",
     "text": [
      "Classes under (x - y) % 3 == 0:\n",
      "{0, 3, -3}\n",
      "{1, 4, -2}\n",
      "{2, -1}\n"
     ]
    }
   ],
   "source": [
    "# Alternate relation using modulo 3\n",
    "relation_mod3 = lambda x, y: (x - y) % 3 == 0\n",
    "classes_mod3, partitions_mod3 = equivalence_partition(range(-3, 5), relation_mod3)\n",
    "\n",
    "print(\"Classes under (x - y) % 3 == 0:\")\n",
    "for c in classes_mod3:\n",
    "    print(c)"
   ]
  },
  {
   "cell_type": "markdown",
   "metadata": {},
   "source": [
    "## Comparing Class Sizes Compare Class Sizes\n",
    "\n",
    "This gives us a clearer view of how the original and modified relations affect grouping."
   ]
  },
  {
   "cell_type": "code",
   "execution_count": 9,
   "metadata": {},
   "outputs": [
    {
     "name": "stdout",
     "output_type": "stream",
     "text": [
      "Original relation (mod 4) class sizes:\n",
      "Class 0: size = 2 -> {1, -3}\n",
      "Class 1: size = 2 -> {2, -2}\n",
      "Class 2: size = 2 -> {3, -1}\n",
      "Class 3: size = 2 -> {0, 4}\n",
      "\n",
      "Modified relation (mod 3) class sizes:\n",
      "Class 0: size = 3 -> {0, 3, -3}\n",
      "Class 1: size = 3 -> {1, 4, -2}\n",
      "Class 2: size = 2 -> {2, -1}\n"
     ]
    }
   ],
   "source": [
    "# Compare class sizes under mod 4 and mod 3\n",
    "relation_mod4 = lambda x, y: (x - y) % 4 == 0\n",
    "classes_mod4, _ = equivalence_partition(range(-3, 5), relation_mod4)\n",
    "\n",
    "print(\"Original relation (mod 4) class sizes:\")\n",
    "for i, c in enumerate(classes_mod4):\n",
    "    print(f\"Class {i}: size = {len(c)} -> {c}\")\n",
    "\n",
    "print(\"\\nModified relation (mod 3) class sizes:\")\n",
    "for i, c in enumerate(classes_mod3):\n",
    "    print(f\"Class {i}: size = {len(c)} -> {c}\")"
   ]
  },
  {
   "cell_type": "markdown",
   "metadata": {},
   "source": [
    "## Visualising Class Sizes with Matplotlib Now I Visualise Class Sizes with Matplotlib\n",
    "\n",
    "To further demonstrate the difference in equivalence class sizes under different relations, I plotted bar charts. This helps me clearly see how changing the relation logic impacts the distribution of grouped values."
   ]
  },
  {
   "cell_type": "code",
   "execution_count": 10,
   "metadata": {},
   "outputs": [
    {
     "data": {
      "image/png": "[encoded data removed]",
      "text/plain": [
       "<Figure size 640x480 with 1 Axes>"
      ]
     },
     "metadata": {},
     "output_type": "display_data"
    },
    {
     "data": {
      "image/png": "[encoded data removed]",
      "text/plain": [
       "<Figure size 640x480 with 1 Axes>"
      ]
     },
     "metadata": {},
     "output_type": "display_data"
    }
   ],
   "source": [
    "import matplotlib.pyplot as plt\n",
    "\n",
    "# Get sizes of each class\n",
    "mod4_sizes = [len(c) for c in classes_mod4]\n",
    "mod3_sizes = [len(c) for c in classes_mod3]\n",
    "\n",
    "# Plotting Modulo 4\n",
    "plt.bar(range(len(mod4_sizes)), mod4_sizes)\n",
    "plt.title(\"Class Sizes – Modulo 4 Relation\")\n",
    "plt.xlabel(\"Class Index\")\n",
    "plt.ylabel(\"Size\")\n",
    "plt.show()\n",
    "\n",
    "# Plotting Modulo 3\n",
    "plt.bar(range(len(mod3_sizes)), mod3_sizes)\n",
    "plt.title(\"Class Sizes – Modulo 3 Relation\")\n",
    "plt.xlabel(\"Class Index\")\n",
    "plt.ylabel(\"Size\")\n",
    "plt.show()"
   ]
  },
  {
   "cell_type": "markdown",
   "metadata": {},
   "source": [
    "## Observed Output Manual Verification of Relation Logic"
   ]
  },
  {
   "cell_type": "code",
   "execution_count": 11,
   "metadata": {},
   "outputs": [
    {
     "name": "stdout",
     "output_type": "stream",
     "text": [
      "Are 1 and -3 equivalent under mod 4? True\n",
      "Are 2 and -3 equivalent under mod 4? False\n"
     ]
    }
   ],
   "source": [
    "# Manual check of equivalence logic\n",
    "print(\"Are 1 and -3 equivalent under mod 4?\", (1 - (-3)) % 4 == 0)\n",
    "print(\"Are 2 and -3 equivalent under mod 4?\", (2 - (-3)) % 4 == 0)"
   ]
  },
  {
   "cell_type": "markdown",
   "metadata": {},
   "source": [
    "## Custom Equivalence Logic Tests Manual Test Suite for Equivalence Logic"
   ]
  },
  {
   "cell_type": "code",
   "execution_count": 12,
   "metadata": {},
   "outputs": [
    {
     "name": "stdout",
     "output_type": "stream",
     "text": [
      "All manual equivalence tests passed.\n"
     ]
    }
   ],
   "source": [
    "def test_relation_equivalence():\n",
    "    assert (1 - (-3)) % 4 == 0\n",
    "    assert (0 - 4) % 4 == 0\n",
    "    assert not (2 - 3) % 4 == 0\n",
    "    assert (2 - (-2)) % 4 == 0\n",
    "    print(\"All manual equivalence tests passed.\")\n",
    "\n",
    "test_relation_equivalence()"
   ]
  }
 ],
 "metadata": {
  "kernelspec": {
   "display_name": "Python 3",
   "language": "python",
   "name": "python3"
  },
  "language_info": {
   "codemirror_mode": {
    "name": "ipython",
    "version": 3
   },
   "file_extension": ".py",
   "mimetype": "text/x-python",
   "name": "python",
   "nbconvert_exporter": "python",
   "pygments_lexer": "ipython3",
   "version": "3.12.5"
  }
 },
 "nbformat": 4,
 "nbformat_minor": 5
}
